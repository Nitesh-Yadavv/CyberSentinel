{
 "cells": [
  {
   "cell_type": "code",
   "execution_count": 1,
   "id": "03219a70-d32f-4abe-b4e0-d1c4149ade5a",
   "metadata": {},
   "outputs": [
    {
     "name": "stdout",
     "output_type": "stream",
     "text": [
      "✅ Preprocessing complete. Scaled data saved.\n"
     ]
    }
   ],
   "source": [
    "import pandas as pd\n",
    "from sklearn.preprocessing import StandardScaler\n",
    "from sklearn.model_selection import train_test_split\n",
    "import joblib\n",
    "\n",
    "# Load column names\n",
    "column_names = [\n",
    "    'duration', 'protocol_type', 'service', 'flag', 'src_bytes', 'dst_bytes',\n",
    "    'land', 'wrong_fragment', 'urgent', 'hot', 'num_failed_logins', 'logged_in',\n",
    "    'num_compromised', 'root_shell', 'su_attempted', 'num_root',\n",
    "    'num_file_creations', 'num_shells', 'num_access_files', 'num_outbound_cmds',\n",
    "    'is_host_login', 'is_guest_login', 'count', 'srv_count',\n",
    "    'serror_rate', 'srv_serror_rate', 'rerror_rate', 'srv_rerror_rate',\n",
    "    'same_srv_rate', 'diff_srv_rate', 'srv_diff_host_rate', 'dst_host_count',\n",
    "    'dst_host_srv_count', 'dst_host_same_srv_rate', 'dst_host_diff_srv_rate',\n",
    "    'dst_host_same_src_port_rate', 'dst_host_srv_diff_host_rate',\n",
    "    'dst_host_serror_rate', 'dst_host_srv_serror_rate',\n",
    "    'dst_host_rerror_rate', 'dst_host_srv_rerror_rate', 'label'\n",
    "]\n",
    "\n",
    "# Load dataset\n",
    "df = pd.read_csv(\"../data/raw/kddcup.data_10_percent_corrected\", names=column_names)\n",
    "\n",
    "# Create binary label (0 = normal, 1 = attack)\n",
    "df['binary_label'] = df['label'].apply(lambda x: 0 if x == 'normal.' else 1)\n",
    "\n",
    "# Select top 10 features\n",
    "selected_features = [\n",
    "    'logged_in', 'count', 'dst_host_count', 'srv_count',\n",
    "    'dst_host_same_src_port_rate', 'srv_diff_host_rate',\n",
    "    'same_srv_rate', 'dst_host_srv_serror_rate',\n",
    "    'serror_rate', 'dst_host_serror_rate'\n",
    "]\n",
    "\n",
    "# Filter normal data for training\n",
    "df_normal = df[df['label'] == 'normal.']\n",
    "X_train = df_normal[selected_features].copy()\n",
    "\n",
    "# Prepare full data for evaluation\n",
    "X_all = df[selected_features].copy()\n",
    "y_all = df['binary_label'].copy()\n",
    "\n",
    "# Scale features\n",
    "scaler = StandardScaler()\n",
    "X_train_scaled = scaler.fit_transform(X_train)\n",
    "X_all_scaled = scaler.transform(X_all)\n",
    "\n",
    "# Save outputs\n",
    "pd.DataFrame(X_train_scaled, columns=selected_features).to_csv(\"../data/processed/X_train_scaled.csv\", index=False)\n",
    "pd.DataFrame(X_all_scaled, columns=selected_features).to_csv(\"../data/processed/X_all_scaled.csv\", index=False)\n",
    "y_all.to_csv(\"../data/processed/y_all.csv\", index=False)\n",
    "joblib.dump(scaler, \"../models/scaler.pkl\")\n",
    "\n",
    "print(\"✅ Preprocessing complete. Scaled data saved.\")\n"
   ]
  },
  {
   "cell_type": "code",
   "execution_count": null,
   "id": "bc1fd306-9fc4-4e87-a696-51a196e22e18",
   "metadata": {},
   "outputs": [],
   "source": []
  }
 ],
 "metadata": {
  "kernelspec": {
   "display_name": "Python 3 (ipykernel)",
   "language": "python",
   "name": "python3"
  },
  "language_info": {
   "codemirror_mode": {
    "name": "ipython",
    "version": 3
   },
   "file_extension": ".py",
   "mimetype": "text/x-python",
   "name": "python",
   "nbconvert_exporter": "python",
   "pygments_lexer": "ipython3",
   "version": "3.11.3"
  }
 },
 "nbformat": 4,
 "nbformat_minor": 5
}
